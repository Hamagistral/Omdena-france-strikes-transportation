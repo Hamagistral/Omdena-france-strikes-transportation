{
 "cells": [
  {
   "cell_type": "code",
   "execution_count": 1,
   "metadata": {},
   "outputs": [],
   "source": [
    "from geopy.geocoders import Nominatim\n",
    "from geopy.distance import geodesic\n",
    "\n",
    "import pandas as pd\n",
    "import json\n",
    "import ast"
   ]
  },
  {
   "cell_type": "code",
   "execution_count": 9,
   "metadata": {},
   "outputs": [],
   "source": [
    "def get_area_name(loc):\n",
    "    \"\"\"\n",
    "    This function gets the address of a (latitude, longitude) position and returns the name of the area\n",
    "    \"\"\"\n",
    "\n",
    "    geolocator = Nominatim(user_agent=\"geoapiExercises\") \n",
    "    location = geolocator.reverse(loc) \n",
    "\n",
    "    location_address = location.raw['address']\n",
    "    \n",
    "    area_road = location_address.get('road', '')\n",
    "    area_neighbourhood = location_address.get('neighbourhood', '')\n",
    "    area_suburb = location_address.get('suburb', '')\n",
    "    area_postcode = location_address.get('postcode', '')\n",
    "    \n",
    "    area_name = \"\"\n",
    "\n",
    "    if area_road:\n",
    "        area_name += area_road + \", \"\n",
    "\n",
    "    if area_neighbourhood:\n",
    "        area_name += area_neighbourhood + \", \"\n",
    "\n",
    "    if area_suburb:\n",
    "        area_name += area_suburb + \", \"\n",
    "\n",
    "    if area_postcode:\n",
    "        area_name += area_postcode\n",
    "\n",
    "    return area_name"
   ]
  },
  {
   "cell_type": "code",
   "execution_count": 5,
   "metadata": {},
   "outputs": [],
   "source": [
    "with open('data/arrets.json') as f:\n",
    "\n",
    "    data = json.load(f)\n",
    "    \n",
    "    df = pd.json_normalize(data)\n",
    "    df = df.rename(columns={\n",
    "        \"fields.arrgeopoint\": \"start_station_coordinates\",\n",
    "        \"fields.arrname\": \"start_station_name\",\n",
    "        \"fields.arrtown\": \"station_town\",\n",
    "        \"fields.arrtype\": \"station_type\"\n",
    "    })\n",
    "    \n",
    "    df = df[[\"start_station_coordinates\", \"start_station_name\", \"station_town\", \"station_type\"]]\n",
    "\n",
    "    df.to_csv('data/bus_stations.csv', index=False)"
   ]
  },
  {
   "cell_type": "code",
   "execution_count": 4,
   "metadata": {},
   "outputs": [
    {
     "data": {
      "text/html": [
       "<div>\n",
       "<style scoped>\n",
       "    .dataframe tbody tr th:only-of-type {\n",
       "        vertical-align: middle;\n",
       "    }\n",
       "\n",
       "    .dataframe tbody tr th {\n",
       "        vertical-align: top;\n",
       "    }\n",
       "\n",
       "    .dataframe thead th {\n",
       "        text-align: right;\n",
       "    }\n",
       "</style>\n",
       "<table border=\"1\" class=\"dataframe\">\n",
       "  <thead>\n",
       "    <tr style=\"text-align: right;\">\n",
       "      <th></th>\n",
       "      <th>start_station_coordinates</th>\n",
       "      <th>start_station_name</th>\n",
       "      <th>station_town</th>\n",
       "    </tr>\n",
       "  </thead>\n",
       "  <tbody>\n",
       "    <tr>\n",
       "      <th>0</th>\n",
       "      <td>[49.04640369689759, 2.0932062985632944]</td>\n",
       "      <td>Gare de Pontoise</td>\n",
       "      <td>Pontoise</td>\n",
       "    </tr>\n",
       "    <tr>\n",
       "      <th>1</th>\n",
       "      <td>[49.014610143868886, 2.0794749770046517]</td>\n",
       "      <td>Gare de Neuville Université</td>\n",
       "      <td>Neuville-sur-Oise</td>\n",
       "    </tr>\n",
       "    <tr>\n",
       "      <th>2</th>\n",
       "      <td>[49.0449454931768, 2.10741709344313]</td>\n",
       "      <td>Gare de Mairie St-Ouen-l'Aumône</td>\n",
       "      <td>Saint-Ouen-l'Aumône</td>\n",
       "    </tr>\n",
       "    <tr>\n",
       "      <th>3</th>\n",
       "      <td>[49.039423818329375, 2.0764361857497593]</td>\n",
       "      <td>Gare de Cergy-Préfecture</td>\n",
       "      <td>Cergy</td>\n",
       "    </tr>\n",
       "    <tr>\n",
       "      <th>4</th>\n",
       "      <td>[49.03432274959586, 2.081983828653887]</td>\n",
       "      <td>Gare de Cergy-Préfecture</td>\n",
       "      <td>Cergy</td>\n",
       "    </tr>\n",
       "  </tbody>\n",
       "</table>\n",
       "</div>"
      ],
      "text/plain": [
       "                  start_station_coordinates               start_station_name  \\\n",
       "0   [49.04640369689759, 2.0932062985632944]                 Gare de Pontoise   \n",
       "1  [49.014610143868886, 2.0794749770046517]      Gare de Neuville Université   \n",
       "2      [49.0449454931768, 2.10741709344313]  Gare de Mairie St-Ouen-l'Aumône   \n",
       "3  [49.039423818329375, 2.0764361857497593]         Gare de Cergy-Préfecture   \n",
       "4    [49.03432274959586, 2.081983828653887]         Gare de Cergy-Préfecture   \n",
       "\n",
       "          station_town  \n",
       "0             Pontoise  \n",
       "1    Neuville-sur-Oise  \n",
       "2  Saint-Ouen-l'Aumône  \n",
       "3                Cergy  \n",
       "4                Cergy  "
      ]
     },
     "execution_count": 4,
     "metadata": {},
     "output_type": "execute_result"
    }
   ],
   "source": [
    "df.head()"
   ]
  },
  {
   "cell_type": "code",
   "execution_count": 37,
   "metadata": {},
   "outputs": [
    {
     "data": {
      "text/plain": [
       "array(['VDS', 'VSU1', 'VSU2', 'VDSC'], dtype=object)"
      ]
     },
     "execution_count": 37,
     "metadata": {},
     "output_type": "execute_result"
    }
   ],
   "source": [
    "df['station_type_voie'].unique()"
   ]
  },
  {
   "cell_type": "code",
   "execution_count": 38,
   "metadata": {},
   "outputs": [
    {
     "data": {
      "text/plain": [
       "array(['77', '78', '92', '95', '91', '94', '75', '93'], dtype=object)"
      ]
     },
     "execution_count": 38,
     "metadata": {},
     "output_type": "execute_result"
    }
   ],
   "source": [
    "df['station_dep'].unique()"
   ]
  },
  {
   "cell_type": "code",
   "execution_count": 39,
   "metadata": {},
   "outputs": [
    {
     "data": {
      "text/plain": [
       "array(['PR', 'FR'], dtype=object)"
      ]
     },
     "execution_count": 39,
     "metadata": {},
     "output_type": "execute_result"
    }
   ],
   "source": [
    "df['line_separation'].unique()"
   ]
  },
  {
   "cell_type": "code",
   "execution_count": 25,
   "metadata": {},
   "outputs": [],
   "source": [
    "def calculate_distance(lat1, lon1, lat2, lon2):\n",
    "    \"\"\"\n",
    "    Calculates the distance between two sets of latitude and longitude coordinates.\n",
    "    \"\"\"\n",
    "\n",
    "    return geodesic((lat1, lon1), (lat2, lon2)).kilometers"
   ]
  },
  {
   "cell_type": "code",
   "execution_count": 40,
   "metadata": {},
   "outputs": [],
   "source": [
    "def find_nearest_bus_station(start_lat, start_long, dest_lat, dest_long):\n",
    "    \"\"\"\n",
    "    Finds the nearest station with a type RER, TRAIN, METRO, TRAMWAY or VAL to the given GPS coordinates\n",
    "    \"\"\"\n",
    "\n",
    "    # Get station information\n",
    "    bus_stations = pd.read_csv(\"data/bus_stations.csv\")\n",
    "\n",
    "    # Converts the station_coordinates from type object to type list\n",
    "    bus_stations['station_coordinates'] = bus_stations['station_coordinates'].apply(ast.literal_eval)\n",
    "\n",
    "    # Create a column with the distance between each station and the input GPS coordinates\n",
    "    bus_stations['distance_from_input'] = bus_stations.apply(\n",
    "        lambda row: calculate_distance(start_lat, start_long, row['station_coordinates'][0], row['station_coordinates'][1]),\n",
    "        axis=1\n",
    "    )\n",
    "\n",
    "    # Create a column with the distance between each station and the destination GPS coordinates\n",
    "    bus_stations['distance_from_destination'] = bus_stations.apply(\n",
    "        lambda row: calculate_distance(dest_lat, dest_long, row['station_coordinates'][0], row['station_coordinates'][1]),\n",
    "        axis=1\n",
    "    )\n",
    "\n",
    "    # Sort stations by destination distance in ascending order\n",
    "    sorted_dest_stations = bus_stations.sort_values(by='distance_from_destination')\n",
    "\n",
    "    # Step 1: Get the closest stations to the destination\n",
    "    closest_dest_station = sorted_dest_stations.iloc[0]\n",
    "    closest_dest_station_coords = (closest_dest_station['station_coordinates'][0], closest_dest_station['station_coordinates'][1])\n",
    "    closest_dest_station_type = closest_dest_station['station_type_voie']\n",
    "\n",
    "    # Filter stations with station_type \n",
    "    filtered_stations = bus_stations[bus_stations['station_type_voie'] == closest_dest_station_type]\n",
    "\n",
    "    if filtered_stations.empty:\n",
    "        return \"No station found.\"\n",
    "    \n",
    "    # Sort filtered stations by input distance in ascending order\n",
    "    sorted_input_stations = filtered_stations.sort_values(by='distance_from_input')\n",
    "\n",
    "    if sorted_input_stations.empty:\n",
    "        return \"No station found with the specified transport type.\"\n",
    "\n",
    "    # Retrieve the nearest station coordinates, name, and type\n",
    "    nearest_station = sorted_input_stations.iloc[0]\n",
    "    nearest_station_coords = (nearest_station['station_coordinates'][0], nearest_station['station_coordinates'][1])\n",
    "    nearest_station_type = nearest_station['station_type_voie']\n",
    "\n",
    "    # Return the nearest station & closest destianation statio coordinates and type of line \n",
    "    return nearest_station_coords, closest_dest_station_coords, nearest_station_type"
   ]
  },
  {
   "cell_type": "code",
   "execution_count": 42,
   "metadata": {},
   "outputs": [
    {
     "data": {
      "text/plain": [
       "((48.84723657995911, 2.3177792578249785),\n",
       " (48.92402658487458, 2.36886468338824),\n",
       " 'VSU1')"
      ]
     },
     "execution_count": 42,
     "metadata": {},
     "output_type": "execute_result"
    }
   ],
   "source": [
    "find_nearest_bus_station(48.846756, 2.316227, 48.922499, 2.3703)"
   ]
  }
 ],
 "metadata": {
  "kernelspec": {
   "display_name": "Python 3",
   "language": "python",
   "name": "python3"
  },
  "language_info": {
   "codemirror_mode": {
    "name": "ipython",
    "version": 3
   },
   "file_extension": ".py",
   "mimetype": "text/x-python",
   "name": "python",
   "nbconvert_exporter": "python",
   "pygments_lexer": "ipython3",
   "version": "3.10.5"
  },
  "orig_nbformat": 4
 },
 "nbformat": 4,
 "nbformat_minor": 2
}

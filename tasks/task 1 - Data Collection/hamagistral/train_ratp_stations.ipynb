{
 "cells": [
  {
   "attachments": {},
   "cell_type": "markdown",
   "metadata": {},
   "source": [
    "## 🚉 Get the nearest RER, TRAIN, METRO, TRAMWAY & VAL Stations"
   ]
  },
  {
   "attachments": {},
   "cell_type": "markdown",
   "metadata": {},
   "source": [
    "#### I. Importing librairies"
   ]
  },
  {
   "cell_type": "code",
   "execution_count": 1,
   "metadata": {},
   "outputs": [],
   "source": [
    "from geopy.distance import geodesic\n",
    "from dotenv import load_dotenv\n",
    "import pandas as pd\n",
    "import boto3\n",
    "import json\n",
    "import ast\n",
    "import os"
   ]
  },
  {
   "cell_type": "code",
   "execution_count": 3,
   "metadata": {},
   "outputs": [
    {
     "data": {
      "text/plain": [
       "True"
      ]
     },
     "execution_count": 3,
     "metadata": {},
     "output_type": "execute_result"
    }
   ],
   "source": [
    "load_dotenv()"
   ]
  },
  {
   "cell_type": "code",
   "execution_count": 4,
   "metadata": {},
   "outputs": [],
   "source": [
    "AWS_ACCESS_KEY_ID = os.getenv('AWS_ACCESS_KEY_ID')\n",
    "AWS_SECRET_ACCESS_KEY = os.getenv('AWS_SECRET_ACCESS_KEY')\n",
    "AWS_BUCKET_NAME = os.getenv('AWS_BUCKET_NAME')"
   ]
  },
  {
   "attachments": {},
   "cell_type": "markdown",
   "metadata": {},
   "source": [
    "Helper function to calculate distance between two latitude and longitude coordinates."
   ]
  },
  {
   "cell_type": "code",
   "execution_count": 5,
   "metadata": {},
   "outputs": [],
   "source": [
    "def calculate_distance(lat1, lon1, lat2, lon2):\n",
    "    \"\"\"\n",
    "    Calculates the distance between two sets of latitude and longitude coordinates.\n",
    "    \"\"\"\n",
    "\n",
    "    return geodesic((lat1, lon1), (lat2, lon2)).kilometers"
   ]
  },
  {
   "attachments": {},
   "cell_type": "markdown",
   "metadata": {},
   "source": [
    "#### II. 💾 Importing data "
   ]
  },
  {
   "attachments": {},
   "cell_type": "markdown",
   "metadata": {},
   "source": [
    "Opening the json file containing [data](https://prim.iledefrance-mobilites.fr/fr/donnees-statiques/emplacement-des-gares-idf) about stations of the Île-de-France rail network; the train and RER stations, the metro, tram, valley and funicular stations open to travelers in Île-de-France."
   ]
  },
  {
   "cell_type": "code",
   "execution_count": 6,
   "metadata": {},
   "outputs": [],
   "source": [
    "# Source of the data: https://prim.iledefrance-mobilites.fr/fr/donnees-statiques/emplacement-des-gares-idf\n",
    "\n",
    "with open('data/emplacement-des-gares-idf.json') as f:\n",
    "\n",
    "    data = json.load(f)\n",
    "    \n",
    "    df = pd.json_normalize(data)\n",
    "    df = df.rename(columns={\n",
    "        \"fields.geo_point_2d\": \"station_coordinates\",\n",
    "        \"fields.nom_gares\": \"station_name\",\n",
    "        \"fields.nom_iv\": \"station_slug\",\n",
    "        \"fields.mode\": \"station_type\",\n",
    "        \"fields.exploitant\": \"station_exploitant\",\n",
    "        \"fields.res_com\": \"transport_type\",\n",
    "        \"fields.indice_lig\": \"transport_index\"\n",
    "    })\n",
    "    \n",
    "    df = df[[\"station_coordinates\", \"station_name\", \"station_slug\", \"station_type\", \"transport_type\", \"transport_index\"]]\n",
    "\n",
    "    # Rename values in \"transport_type\" column that contain \"TRAIN\" to \"TRANSILIEN\"\n",
    "    df['transport_type'] = df['transport_type'].str.replace('TRAIN', 'TRANSILIEN')\n",
    "    \n",
    "    df.to_csv('data/transport_stations_paris.csv', index=False)"
   ]
  },
  {
   "cell_type": "code",
   "execution_count": 7,
   "metadata": {},
   "outputs": [
    {
     "data": {
      "text/html": [
       "<div>\n",
       "<style scoped>\n",
       "    .dataframe tbody tr th:only-of-type {\n",
       "        vertical-align: middle;\n",
       "    }\n",
       "\n",
       "    .dataframe tbody tr th {\n",
       "        vertical-align: top;\n",
       "    }\n",
       "\n",
       "    .dataframe thead th {\n",
       "        text-align: right;\n",
       "    }\n",
       "</style>\n",
       "<table border=\"1\" class=\"dataframe\">\n",
       "  <thead>\n",
       "    <tr style=\"text-align: right;\">\n",
       "      <th></th>\n",
       "      <th>station_coordinates</th>\n",
       "      <th>station_name</th>\n",
       "      <th>station_slug</th>\n",
       "      <th>station_type</th>\n",
       "      <th>transport_type</th>\n",
       "      <th>transport_index</th>\n",
       "    </tr>\n",
       "  </thead>\n",
       "  <tbody>\n",
       "    <tr>\n",
       "      <th>0</th>\n",
       "      <td>[48.68101661540746, 2.533130656571037]</td>\n",
       "      <td>Boussy-Saint-Antoine</td>\n",
       "      <td>Boussy-Saint-Antoine</td>\n",
       "      <td>RER</td>\n",
       "      <td>RER D</td>\n",
       "      <td>D</td>\n",
       "    </tr>\n",
       "    <tr>\n",
       "      <th>1</th>\n",
       "      <td>[48.60674494801255, 2.3020596915826386]</td>\n",
       "      <td>Brétigny</td>\n",
       "      <td>Brétigny</td>\n",
       "      <td>RER</td>\n",
       "      <td>RER C</td>\n",
       "      <td>C</td>\n",
       "    </tr>\n",
       "    <tr>\n",
       "      <th>2</th>\n",
       "      <td>[49.00975645120457, 2.5612326952251054]</td>\n",
       "      <td>Aéroport Charles De Gaulle 1</td>\n",
       "      <td>Aéroport Charles De Gaulle 1</td>\n",
       "      <td>RER</td>\n",
       "      <td>RER B</td>\n",
       "      <td>B</td>\n",
       "    </tr>\n",
       "    <tr>\n",
       "      <th>3</th>\n",
       "      <td>[48.798892499145914, 2.3281369230647506]</td>\n",
       "      <td>Arcueil-Cachan</td>\n",
       "      <td>Arcueil-Cachan</td>\n",
       "      <td>RER</td>\n",
       "      <td>RER B</td>\n",
       "      <td>B</td>\n",
       "    </tr>\n",
       "    <tr>\n",
       "      <th>4</th>\n",
       "      <td>[48.932196005027805, 2.495513142584313]</td>\n",
       "      <td>Aulnay-sous-Bois</td>\n",
       "      <td>Aulnay-sous-Bois</td>\n",
       "      <td>TRAIN</td>\n",
       "      <td>TRANSILIEN K</td>\n",
       "      <td>K</td>\n",
       "    </tr>\n",
       "  </tbody>\n",
       "</table>\n",
       "</div>"
      ],
      "text/plain": [
       "                        station_coordinates                  station_name  \\\n",
       "0    [48.68101661540746, 2.533130656571037]          Boussy-Saint-Antoine   \n",
       "1   [48.60674494801255, 2.3020596915826386]                      Brétigny   \n",
       "2   [49.00975645120457, 2.5612326952251054]  Aéroport Charles De Gaulle 1   \n",
       "3  [48.798892499145914, 2.3281369230647506]                Arcueil-Cachan   \n",
       "4   [48.932196005027805, 2.495513142584313]              Aulnay-sous-Bois   \n",
       "\n",
       "                   station_slug station_type transport_type transport_index  \n",
       "0          Boussy-Saint-Antoine          RER          RER D               D  \n",
       "1                      Brétigny          RER          RER C               C  \n",
       "2  Aéroport Charles De Gaulle 1          RER          RER B               B  \n",
       "3                Arcueil-Cachan          RER          RER B               B  \n",
       "4              Aulnay-sous-Bois        TRAIN   TRANSILIEN K               K  "
      ]
     },
     "execution_count": 7,
     "metadata": {},
     "output_type": "execute_result"
    }
   ],
   "source": [
    "stations = pd.read_csv(\"data/transport_stations_paris.csv\")\n",
    "stations.head()"
   ]
  },
  {
   "cell_type": "code",
   "execution_count": 8,
   "metadata": {},
   "outputs": [
    {
     "data": {
      "text/plain": [
       "array(['RER', 'TRAIN', 'METRO', 'TRAMWAY', 'VAL'], dtype=object)"
      ]
     },
     "execution_count": 8,
     "metadata": {},
     "output_type": "execute_result"
    }
   ],
   "source": [
    "stations['station_type'].unique()"
   ]
  },
  {
   "cell_type": "code",
   "execution_count": 9,
   "metadata": {},
   "outputs": [
    {
     "data": {
      "text/plain": [
       "array(['RER D', 'RER C', 'RER B', 'TRANSILIEN K', 'TRANSILIEN H',\n",
       "       'TRANSILIEN L', 'RER A', 'TRANSILIEN J', 'TRANSILIEN R',\n",
       "       'TRANSILIEN P', 'RER E', 'TRANSILIEN N', 'TRANSILIEN U', 'GL',\n",
       "       'METRO 10', 'METRO 4', 'METRO 3', 'METRO 9', 'METRO 2', 'TRAM 3a',\n",
       "       'TRAM 1', 'TRAM 7', 'TRAM 6', 'TRAM 3b', 'METRO 7bis', 'METRO 5',\n",
       "       'METRO 1', 'METRO 14', 'METRO 8', 'METRO 6', 'METRO 11',\n",
       "       'METRO 13', 'METRO 12', 'METRO 7', 'METRO 3bis', 'TRAM 4',\n",
       "       'TRAM 2', 'TRAM 8', 'TRAM 5', 'TRAM 13', 'TRAM 10', 'ORLYVAL',\n",
       "       'CDGVAL', 'TRAM 11', 'TRAM 9', 'FUNICULAIRE MONTMARTRE'],\n",
       "      dtype=object)"
      ]
     },
     "execution_count": 9,
     "metadata": {},
     "output_type": "execute_result"
    }
   ],
   "source": [
    "stations['transport_type'].unique()"
   ]
  },
  {
   "cell_type": "code",
   "execution_count": 14,
   "metadata": {},
   "outputs": [
    {
     "data": {
      "text/plain": [
       "array(['D', 'C', 'B', 'K', 'H', 'L', 'A', 'J', 'R', 'P', 'E', 'N', 'U',\n",
       "       'GL', '10', '4', '3', '9', '2', '3A', '1', '7', '6', '3B', '7b',\n",
       "       '5', '14', '8', '11', '13', '12', '3bis', 'ORL', 'CDG', 'FUN'],\n",
       "      dtype=object)"
      ]
     },
     "execution_count": 14,
     "metadata": {},
     "output_type": "execute_result"
    }
   ],
   "source": [
    "stations['transport_index'].unique()"
   ]
  },
  {
   "attachments": {},
   "cell_type": "markdown",
   "metadata": {},
   "source": [
    "#### III. Scripting "
   ]
  },
  {
   "cell_type": "code",
   "execution_count": 30,
   "metadata": {},
   "outputs": [],
   "source": [
    "def load_station_status_data():\n",
    "    s3 = boto3.resource('s3', aws_access_key_id=AWS_ACCESS_KEY_ID, aws_secret_access_key=AWS_SECRET_ACCESS_KEY)\n",
    "    bucket = s3.Bucket(AWS_BUCKET_NAME)\n",
    "    obj = bucket.Object('ratp_stations_traffic_status.csv')\n",
    "    body = obj.get()['Body']\n",
    "    df = pd.read_csv(body)\n",
    "\n",
    "    return df"
   ]
  },
  {
   "cell_type": "code",
   "execution_count": 31,
   "metadata": {},
   "outputs": [],
   "source": [
    "def find_nearest_ratp_station(start_lat, start_long, dest_lat, dest_long, station_type):\n",
    "    \"\"\"\n",
    "    Finds the nearest station with a type RER, TRAIN, METRO, TRAMWAY or VAL to the given GPS coordinates\n",
    "    \"\"\"\n",
    "\n",
    "    # Get station information\n",
    "    stations = pd.read_csv(\"data/transport_stations_paris.csv\")\n",
    "    stations_status = load_station_status_data()\n",
    "    \n",
    "    # Merge the filtered stations with the stations_status dataframe based on the \"name\" and \"transport_type\" columns\n",
    "    stations_infos = pd.merge(stations, stations_status, left_on='transport_type', right_on='name', how='left')\n",
    "    stations_infos = stations_infos.drop(columns='name')\n",
    "\n",
    "\n",
    "    # Converts the station_coordinates from type object to type list\n",
    "    stations_infos['station_coordinates'] = stations_infos['station_coordinates'].apply(ast.literal_eval)\n",
    "\n",
    "    # Create a column with the distance between each station and the input GPS coordinates\n",
    "    stations_infos['distance_from_input'] = stations_infos.apply(\n",
    "        lambda row: calculate_distance(start_lat, start_long, row['station_coordinates'][0], row['station_coordinates'][1]),\n",
    "        axis=1\n",
    "    )\n",
    "\n",
    "    # Create a column with the distance between each station and the destination GPS coordinates\n",
    "    stations_infos['distance_from_destination'] = stations_infos.apply(\n",
    "        lambda row: calculate_distance(dest_lat, dest_long, row['station_coordinates'][0], row['station_coordinates'][1]),\n",
    "        axis=1\n",
    "    )\n",
    "\n",
    "    # Calculate distance from the input to the destination\n",
    "    distance_input_destination = calculate_distance(start_lat, start_long, dest_lat, dest_long)\n",
    "\n",
    "    # Filter stations with station_type \n",
    "    filtered_stations = stations_infos[stations_infos['station_type'] == station_type]\n",
    "\n",
    "    if filtered_stations.empty:\n",
    "        return \"No station found.\"\n",
    "\n",
    "    # Sort stations by destination distance in ascending order\n",
    "    sorted_dest_stations = filtered_stations.sort_values(by='distance_from_destination')\n",
    "\n",
    "    # Step 1: Get 10 closest stations to the destination\n",
    "    closest_dest_stations = sorted_dest_stations.head(10)\n",
    "\n",
    "    # Step 2: Check if the transport_type of the closest stations have \"traffic normal\"\n",
    "    closest_dest_station = None\n",
    "    for _, station in closest_dest_stations.iterrows():\n",
    "        if 'trafic normal' in station['status']:\n",
    "            closest_dest_station = station\n",
    "            break  # Exit the loop once the row is found\n",
    "\n",
    "    if closest_dest_station is None:\n",
    "        return \"No station with normal traffic found.\"\n",
    "    \n",
    "    closest_dest_station_coords = (closest_dest_station['station_coordinates'][0], closest_dest_station['station_coordinates'][1])\n",
    "    closest_dest_station_name = closest_dest_station['station_name']\n",
    "    \n",
    "    # Sort filtered stations by input distance in ascending order\n",
    "    sorted_input_stations = filtered_stations.sort_values(by='distance_from_input')\n",
    "\n",
    "    # Step 3: Filter stations by station_type and transport_type of the closest_dest_station\n",
    "    filtered_stations = sorted_input_stations[sorted_input_stations['transport_type'] == closest_dest_station['transport_type']]\n",
    "\n",
    "    if filtered_stations.empty:\n",
    "        return \"No station found with the specified transport type.\"\n",
    "\n",
    "    # Retrieve the nearest station coordinates, name, and type\n",
    "    nearest_station = filtered_stations.iloc[0]\n",
    "    nearest_station_coords = (nearest_station['station_coordinates'][0], nearest_station['station_coordinates'][1])\n",
    "    nearest_station_name = nearest_station['station_name']\n",
    "    nearest_station_type = nearest_station['station_type']\n",
    "\n",
    "    transport_type = nearest_station['transport_type']\n",
    "    transport_type_status = nearest_station['status']\n",
    "\n",
    "    # Return the nearest station coordinates, name, and type (train, metro, tramway etc...)\n",
    "    return nearest_station_coords, closest_dest_station_coords, closest_dest_station_name, nearest_station_name, nearest_station_type, transport_type, transport_type_status"
   ]
  },
  {
   "attachments": {},
   "cell_type": "markdown",
   "metadata": {},
   "source": [
    "Let's try to find the nearest Metro station"
   ]
  },
  {
   "cell_type": "code",
   "execution_count": 32,
   "metadata": {},
   "outputs": [
    {
     "data": {
      "text/plain": [
       "((48.84447014036132, 2.317852783041331),\n",
       " (48.913710544615356, 2.3807356063950937),\n",
       " \"Mairie d'Aubervilliers\",\n",
       " 'Falguière',\n",
       " 'METRO',\n",
       " 'METRO 12',\n",
       " 'trafic normal')"
      ]
     },
     "execution_count": 32,
     "metadata": {},
     "output_type": "execute_result"
    }
   ],
   "source": [
    "find_nearest_ratp_station(48.846756, 2.316227, 48.922499, 2.3703, \"METRO\")"
   ]
  }
 ],
 "metadata": {
  "kernelspec": {
   "display_name": "Python 3",
   "language": "python",
   "name": "python3"
  },
  "language_info": {
   "codemirror_mode": {
    "name": "ipython",
    "version": 3
   },
   "file_extension": ".py",
   "mimetype": "text/x-python",
   "name": "python",
   "nbconvert_exporter": "python",
   "pygments_lexer": "ipython3",
   "version": "3.10.5"
  },
  "orig_nbformat": 4
 },
 "nbformat": 4,
 "nbformat_minor": 2
}

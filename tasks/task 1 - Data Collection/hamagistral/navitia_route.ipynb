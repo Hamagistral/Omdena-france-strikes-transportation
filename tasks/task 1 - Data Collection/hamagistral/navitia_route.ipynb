{
  "cells": [
    {
      "cell_type": "code",
      "execution_count": 1,
      "metadata": {},
      "outputs": [],
      "source": [
        "from navitia_client import Client\n",
        "from datetime import datetime\n",
        "import unidecode"
      ]
    },
    {
      "cell_type": "code",
      "execution_count": 23,
      "metadata": {
        "colab": {
          "base_uri": "https://localhost:8080/"
        },
        "id": "RYPLNydKj04a",
        "outputId": "eb9173d1-7ea4-4a15-a821-fbb2ce80fcba"
      },
      "outputs": [],
      "source": [
        "def get_navitia_journey():\n",
        "    NAVITIA_USER = \"YOUR API KEY\"\n",
        "\n",
        "    client = Client(user=NAVITIA_USER)\n",
        "\n",
        "    client.set_region(\"fr-idf\")\n",
        "\n",
        "    departure = '2.364979;48.79974'\n",
        "    destination = '2.290649;48.918551'\n",
        "\n",
        "    traveler_type = 'standard'\n",
        "    commercial_mode = 'Bus'\n",
        "\n",
        "    raw_url = f'coverage/fr-idf/journeys?from={departure}&to={destination}&traveler_type={traveler_type}&allowed_id%5B%5D=commercial_mode%3A{commercial_mode}&max_nb_journeys=3&'\n",
        "    response = client.raw(url=raw_url)\n",
        "\n",
        "    response = response.json()\n",
        "\n",
        "    # Extract routes and schedules\n",
        "    journeys = response['journeys']\n",
        "\n",
        "    # Get best journey route\n",
        "    for i, journey in enumerate(journeys):\n",
        "        if journey['status'] == '':\n",
        "            if commercial_mode == '':\n",
        "                best_route = journey\n",
        "                break\n",
        "            else:\n",
        "                for j in range(0, len(journey['sections'])):\n",
        "                    mode = journey['sections'][j].get('display_informations', '')\n",
        "                    if 'physical_mode' in mode:\n",
        "                        mode = mode.get('physical_mode')\n",
        "                        mode = unidecode.unidecode(mode).lower()\n",
        "                        if mode == commercial_mode.lower():\n",
        "                            best_route = journey\n",
        "                            break\n",
        "\n",
        "    return best_route"
      ]
    },
    {
      "cell_type": "code",
      "execution_count": 3,
      "metadata": {},
      "outputs": [],
      "source": [
        "best_route = get_navitia_journey()"
      ]
    },
    {
      "cell_type": "code",
      "execution_count": 4,
      "metadata": {},
      "outputs": [],
      "source": [
        "def convert_duration(seconds):\n",
        "    min, sec = divmod(seconds, 60)\n",
        "    hour, min = divmod(min, 60)\n",
        "    return '%d:%02d:%02d' % (hour, min, sec)"
      ]
    },
    {
      "cell_type": "code",
      "execution_count": 5,
      "metadata": {},
      "outputs": [],
      "source": [
        "def journey_summary(best_route, trp_mean, trp_mode):\n",
        "    departure_time = best_route['departure_date_time']\n",
        "\n",
        "    datetime_obj = datetime.strptime(departure_time, '%Y%m%dT%H%M%S')\n",
        "    formatted_time_dep = datetime_obj.strftime('%H:%M:%S')\n",
        "\n",
        "    arrival_time = best_route['arrival_date_time']\n",
        "\n",
        "    datetime_obj = datetime.strptime(arrival_time, '%Y%m%dT%H%M%S')\n",
        "    formatted_time_arr = datetime_obj.strftime('%H:%M:%S')\n",
        "\n",
        "    durations = []\n",
        "    for i, transportation in enumerate(best_route['durations']):\n",
        "        if best_route['durations'][transportation] > 0:\n",
        "            durations.append({transportation: convert_duration(best_route['durations'][transportation])})\n",
        "\n",
        "    distances = []\n",
        "    for i, transportation in enumerate(best_route['distances']):\n",
        "        if best_route['distances'][transportation] > 0:\n",
        "            distances.append({transportation: best_route['distances'][transportation]})\n",
        "\n",
        "    start = best_route['sections'][0]['from']['address']['label']\n",
        "    start_coordinates = best_route['sections'][0]['from']['address']['coord']\n",
        "\n",
        "    dest = best_route['sections'][len(best_route['sections']) - 1]['to']['address']['label']\n",
        "    dest_coordinates = best_route['sections'][len(best_route['sections']) - 1]['to']['address']['coord']\n",
        "    \n",
        "    total_duration = durations[0]['total']\n",
        "\n",
        "    time_components = total_duration.split(':')\n",
        "    hours = int(time_components[0])\n",
        "    minutes = int(time_components[1])\n",
        "    seconds = int(time_components[2])\n",
        "\n",
        "    if hours == 0:\n",
        "        if minutes == 0:\n",
        "            total_duration = f\"{seconds} seconds\"\n",
        "        else:\n",
        "            total_duration = f\"{minutes} minutes\"\n",
        "    else:\n",
        "        total_duration = total_duration\n",
        "\n",
        "    distance_string = ', '.join([f\"{list(d.keys())[0].capitalize()}: {list(d.values())[0]}m\" for d in distances])\n",
        "\n",
        "    print(f\"\"\"Here's the best route journey we found for you using your current transportation mode ({trp_mean}) and your preffered transportation ({trp_mode}):\n",
        "          🛎️ Departure at {formatted_time_dep} from {start} \n",
        "          🧳 Arrival in {formatted_time_arr} to {dest} \n",
        "          🕖 Total duration of the trip {total_duration} \n",
        "          🛸 {distance_string}\"\"\")\n"
      ]
    },
    {
      "cell_type": "code",
      "execution_count": 8,
      "metadata": {},
      "outputs": [
        {
          "name": "stdout",
          "output_type": "stream",
          "text": [
            "Here's the best route journey we found for you using your current transportation mode (🚶‍♂️ Walking) and your preffered transportation (🚍 Bus):\n",
            "          🛎️ Departure at 05:34:33 from 100 Avenue de Paris (Villejuif) \n",
            "          🧳 Arrival in 07:35:51 to 74 Rue des Bas (Gennevilliers) \n",
            "          🕖 Total duration of the trip 2:01:13 \n",
            "          🛸 Walking: 1213m, Bike: 2328m\n"
          ]
        }
      ],
      "source": [
        "journey_summary(best_route, \"🚶‍♂️ Walking\", \"🚍 Bus\")"
      ]
    },
    {
      "cell_type": "code",
      "execution_count": 9,
      "metadata": {},
      "outputs": [],
      "source": [
        "def get_journey_steps(best_route, commercial_mode):\n",
        "    for i, section in enumerate(best_route['sections']):\n",
        "        try:\n",
        "            from_label = section['from'].get('address', {}).get('label') or section['from'].get('stop_point', {}).get('label') or section['from'].get('poi', {}).get('label') or ''\n",
        "            to_label = section['to'].get('address', {}).get('label') or section['to'].get('stop_point', {}).get('label') or section['to'].get('poi', {}).get('label') or ''\n",
        "            via_label = section.get('vias', [{}])[0].get('name', '')\n",
        "\n",
        "            duration = section.get('duration')\n",
        "            duration = convert_duration(duration)\n",
        "\n",
        "            time_components = duration.split(':')\n",
        "            hours = int(time_components[0])\n",
        "            minutes = int(time_components[1])\n",
        "            seconds = int(time_components[2])\n",
        "\n",
        "            if hours == 0:\n",
        "                if minutes == 0:\n",
        "                    duration = f\"{seconds} seconds\"\n",
        "                else:\n",
        "                    duration = f\"{minutes} minutes\"\n",
        "            else:\n",
        "                duration = duration\n",
        "\n",
        "            print(f\"Step {i+1}. From {from_label} to {to_label} | ⏱️ Duration: {duration} \", end='')\n",
        "\n",
        "            transport_mode = section.get('display_informations', {}).get('commercial_mode', {}) or ''\n",
        "            transport_direction = section.get('display_informations', {}).get('direction', {}) or ''\n",
        "            transport_code = section.get('display_informations', {}).get('code', {}) or ''\n",
        "\n",
        "            if via_label:\n",
        "                print(f\"via {via_label}\")\n",
        "            else:\n",
        "                print()\n",
        "\n",
        "            try:\n",
        "                stop_datetime = section['stop_date_times'][0].get('departure_date_time') or ''\n",
        "                stop_datetime = datetime.strptime(stop_datetime, '%Y%m%dT%H%M%S')\n",
        "                stop_datetime = stop_datetime.strftime('%H:%M:%S')\n",
        "\n",
        "                print(f\"🛎️ Departure Time: {stop_datetime} | \", end='')\n",
        "            except:\n",
        "                pass\n",
        "\n",
        "            if commercial_mode == \"Bus\":\n",
        "                emoji_trp = \"🚍\"\n",
        "            elif commercial_mode == \"Metro\":\n",
        "                emoji_trp = \"🚇\"\n",
        "            elif commercial_mode == \"RapidTransit\":\n",
        "                emoji_trp = \"🚈\"\n",
        "            elif commercial_mode == \"LocalTrain\":\n",
        "                emoji_trp = \"🚆\"\n",
        "            elif commercial_mode == \"Tramway\":\n",
        "                emoji_trp = \"🚊\"\n",
        "            else:\n",
        "                emoji_trp = \"🛸\"\n",
        "\n",
        "            if transport_mode and stop_datetime:\n",
        "                print(f\"{emoji_trp} {transport_mode} Line {transport_code} heading to {transport_direction}\\n\")\n",
        "            else:\n",
        "                print()\n",
        "                \n",
        "        except:\n",
        "            duration = section.get('duration')\n",
        "\n",
        "            print(f\"Step {i+1}. ⏳ Wait for {int(duration / 60)} min\\n\")"
      ]
    },
    {
      "cell_type": "code",
      "execution_count": 10,
      "metadata": {},
      "outputs": [
        {
          "name": "stdout",
          "output_type": "stream",
          "text": [
            "Step 1. From 100 Avenue de Paris (Villejuif) to Avenue de Paris | ⏱️ Duration: 8 minutes \n",
            "\n",
            "Step 2. From Avenue de Paris to LCL Campus - Place Oscar Niemeyer | ⏱️ Duration: 2 minutes \n",
            "\n",
            "Step 3. From LCL Campus - Place Oscar Niemeyer to Italie - Tolbiac | ⏱️ Duration: 11 minutes \n",
            "\n",
            "Step 4. From Italie - Tolbiac to Avenue d'Italie | ⏱️ Duration: 1 minutes \n",
            "\n",
            "Step 5. From Avenue d'Italie to Italie - Tolbiac (Paris) | ⏱️ Duration: 1 minutes \n",
            "\n",
            "Step 6. From Italie - Tolbiac (Paris) to Porte de Saint-Cloud (Paris) | ⏱️ Duration: 33 minutes \n",
            "🛎️ Departure Time: 05:59:00 | 🚍 Bus Line 62 heading to Porte de Saint-Cloud (Paris)\n",
            "\n",
            "Step 7. From Porte de Saint-Cloud (Paris) to Porte de Saint-Cloud (Paris) | ⏱️ Duration: 1 minutes \n",
            "\n",
            "Step 8. ⏳ Wait for 7 min\n",
            "\n",
            "Step 9. From Porte de Saint-Cloud (Paris) to Gabriel Péri - Métro (Asnières-sur-Seine) | ⏱️ Duration: 49 minutes \n",
            "🛎️ Departure Time: 06:40:00 | 🚍 Bus Line 175 heading to Gabriel Péri - Métro (Asnières-sur-Seine)\n",
            "\n",
            "Step 10. From Gabriel Péri - Métro (Asnières-sur-Seine) to 74 Rue des Bas (Gennevilliers) | ⏱️ Duration: 6 minutes \n",
            "\n"
          ]
        }
      ],
      "source": [
        "get_journey_steps(best_route, \"Bus\")"
      ]
    }
  ],
  "metadata": {
    "colab": {
      "provenance": []
    },
    "kernelspec": {
      "display_name": "Python 3",
      "name": "python3"
    },
    "language_info": {
      "codemirror_mode": {
        "name": "ipython",
        "version": 3
      },
      "file_extension": ".py",
      "mimetype": "text/x-python",
      "name": "python",
      "nbconvert_exporter": "python",
      "pygments_lexer": "ipython3",
      "version": "3.10.5"
    }
  },
  "nbformat": 4,
  "nbformat_minor": 0
}

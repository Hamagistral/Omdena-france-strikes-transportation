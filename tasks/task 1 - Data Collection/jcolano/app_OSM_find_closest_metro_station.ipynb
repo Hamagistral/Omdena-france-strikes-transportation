{
 "cells": [
  {
   "cell_type": "code",
   "execution_count": 5,
   "metadata": {},
   "outputs": [],
   "source": [
    "import osmnx as ox\n",
    "import geopandas as gpd\n",
    "from geopy.geocoders import Nominatim\n",
    "from geopy.distance import geodesic\n",
    "import requests "
   ]
  },
  {
   "cell_type": "code",
   "execution_count": 8,
   "metadata": {},
   "outputs": [],
   "source": [
    "# Function to find closest station to an address\n",
    "def closest_station(address):\n",
    "    geolocator = Nominatim(user_agent=\"geoapiJCO\")\n",
    "    location = geolocator.geocode(address)\n",
    "    \n",
    "    # Define a bounding box around Paris\n",
    "    north, south, east, west = 48.9022, 48.8156, 2.4699, 2.2241\n",
    "\n",
    "    # Use Overpass API to get metro stations in Paris\n",
    "    query = f\"\"\"\n",
    "    [out:json];\n",
    "    (\n",
    "    node[\"railway\"=\"subway_entrance\"]({south},{west},{north},{east});\n",
    "    );\n",
    "    out body;\n",
    "    \"\"\"\n",
    "    response = requests.get(\"http://overpass-api.de/api/interpreter\", params={'data': query})\n",
    "    data = response.json()\n",
    "\n",
    "    # Convert the data to a GeoDataFrame\n",
    "    nodes = [{'id': element['id'], 'lat': element['lat'], 'lon': element['lon'], 'tags': element['tags']} for element in data['elements'] if element['type'] == 'node']\n",
    "    df = gpd.GeoDataFrame(nodes)\n",
    "    df['geometry'] = gpd.points_from_xy(df.lon, df.lat)\n",
    "\n",
    "    # Find the closest station\n",
    "    closest_station = None\n",
    "    min_dist = float('inf')\n",
    "    for idx, row in df.iterrows():\n",
    "        station_location = (row['lat'], row['lon'])\n",
    "        dist = geodesic((location.latitude, location.longitude), station_location).meters\n",
    "        if dist < min_dist:\n",
    "            min_dist = dist\n",
    "            closest_station = row['tags'].get('name', 'No name')\n",
    "\n",
    "    return closest_station\n"
   ]
  },
  {
   "cell_type": "code",
   "execution_count": 9,
   "metadata": {},
   "outputs": [
    {
     "name": "stdout",
     "output_type": "stream",
     "text": [
      "Champs-Élysées\n"
     ]
    },
    {
     "name": "stderr",
     "output_type": "stream",
     "text": [
      "C:\\Users\\juan_\\AppData\\Local\\Temp\\ipykernel_25880\\332674046.py:23: FutureWarning: You are adding a column named 'geometry' to a GeoDataFrame constructed without an active geometry column. Currently, this automatically sets the active geometry column to 'geometry' but in the future that will no longer happen. Instead, either provide geometry to the GeoDataFrame constructor (GeoDataFrame(... geometry=GeoSeries()) or use `set_geometry('geometry')` to explicitly set the active geometry column.\n",
      "  df['geometry'] = gpd.points_from_xy(df.lon, df.lat)\n"
     ]
    }
   ],
   "source": [
    "\n",
    "# Test the function\n",
    "address = \"10 Rue du Colisée, 75008 Paris\"\n",
    "print(closest_station(address))\n"
   ]
  },
  {
   "cell_type": "code",
   "execution_count": null,
   "metadata": {},
   "outputs": [],
   "source": []
  }
 ],
 "metadata": {
  "kernelspec": {
   "display_name": "Python 3",
   "language": "python",
   "name": "python3"
  },
  "language_info": {
   "codemirror_mode": {
    "name": "ipython",
    "version": 3
   },
   "file_extension": ".py",
   "mimetype": "text/x-python",
   "name": "python",
   "nbconvert_exporter": "python",
   "pygments_lexer": "ipython3",
   "version": "3.10.10"
  },
  "orig_nbformat": 4
 },
 "nbformat": 4,
 "nbformat_minor": 2
}

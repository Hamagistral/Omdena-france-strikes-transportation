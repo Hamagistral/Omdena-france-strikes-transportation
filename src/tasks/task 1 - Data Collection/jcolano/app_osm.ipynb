{
 "cells": [
  {
   "cell_type": "code",
   "execution_count": 30,
   "metadata": {},
   "outputs": [],
   "source": [
    "import osmnx as ox\n",
    "import networkx as nx\n",
    "import json\n",
    "from geopy.geocoders import Nominatim\n",
    "from geopy.point import Point"
   ]
  },
  {
   "cell_type": "code",
   "execution_count": null,
   "metadata": {},
   "outputs": [],
   "source": [
    "# Load the street network of Paris from OSM\n",
    "graph = ox.graph_from_place('Paris, France', network_type='drive')\n"
   ]
  },
  {
   "cell_type": "code",
   "execution_count": 31,
   "metadata": {},
   "outputs": [],
   "source": [
    "def get_driving_directions(start_lat, start_lng, end_lat, end_lng):\n",
    "    # Create the origin and destination points\n",
    "    origin = (start_lat, start_lng)\n",
    "    destination = (end_lat, end_lng)\n",
    "\n",
    "    # Retrieve the nearest network nodes for the origin and destination\n",
    "    origin_node = ox.distance.nearest_nodes(graph, origin[1], origin[0])\n",
    "    destination_node = ox.distance.nearest_nodes(graph, destination[1], destination[0])\n",
    "\n",
    "   # Find the shortest path between the nodes\n",
    "    route = nx.shortest_path(graph, origin_node, destination_node, weight='length')\n",
    "\n",
    "    # Calculate the distance and estimated time\n",
    "    distance = sum(ox.distance.great_circle_vec(graph.nodes[node]['y'], graph.nodes[node]['x'],\n",
    "                                                graph.nodes[next_node]['y'], graph.nodes[next_node]['x'])\n",
    "                   for node, next_node in zip(route[:-1], route[1:]))\n",
    "    estimated_time = distance / 20  # Assuming average driving speed of 20 meters per second\n",
    "\n",
    "    # Create the JSON response\n",
    "    response = {\n",
    "        'coordinates': [(graph.nodes[node]['y'], graph.nodes[node]['x']) for node in route],\n",
    "        'distance': distance,\n",
    "        'estimated_time': estimated_time\n",
    "    }\n",
    "\n",
    "    return response\n"
   ]
  },
  {
   "cell_type": "code",
   "execution_count": 37,
   "metadata": {},
   "outputs": [],
   "source": [
    "def convert_node_ids_to_street_names(directions_json):\n",
    "    # Convert node IDs to street names\n",
    "    geolocator = Nominatim(user_agent='omdena-paris')\n",
    "    instructions = []\n",
    "    for lat, lon in directions_json['coordinates']:\n",
    "        location = Point(lat, lon)\n",
    "        address = geolocator.reverse(location, exactly_one=True)\n",
    "        instructions.append(address.address)\n",
    "\n",
    "    # Create the updated JSON response\n",
    "    updated_directions_json = directions_json.copy()\n",
    "    updated_directions_json['instructions'] = instructions\n",
    "    del updated_directions_json['coordinates']\n",
    "\n",
    "    return updated_directions_json"
   ]
  },
  {
   "cell_type": "code",
   "execution_count": 33,
   "metadata": {},
   "outputs": [],
   "source": [
    "# Set custom user agent for Nominatim geolocator\n",
    "geolocator = Nominatim(user_agent='omdena-paris')\n"
   ]
  },
  {
   "cell_type": "code",
   "execution_count": 34,
   "metadata": {},
   "outputs": [],
   "source": [
    "# Example usage with two locations in Paris\n",
    "start_lat = 48.8591\n",
    "start_lng = 2.2945\n",
    "end_lat = 48.8566\n",
    "end_lng = 2.3522"
   ]
  },
  {
   "cell_type": "code",
   "execution_count": 35,
   "metadata": {},
   "outputs": [],
   "source": [
    "\n",
    "directions = get_driving_directions(start_lat, start_lng, end_lat, end_lng)\n"
   ]
  },
  {
   "cell_type": "code",
   "execution_count": 38,
   "metadata": {},
   "outputs": [],
   "source": [
    "# Convert node IDs to street names\n",
    "updated_directions = convert_node_ids_to_street_names(directions)\n"
   ]
  },
  {
   "cell_type": "code",
   "execution_count": 39,
   "metadata": {},
   "outputs": [
    {
     "name": "stdout",
     "output_type": "stream",
     "text": [
      "{\n",
      "    \"distance\": 5095.7333985607,\n",
      "    \"estimated_time\": 254.786669928035,\n",
      "    \"instructions\": [\n",
      "        \"39992, Quai Jacques Chirac, Gros-Caillou, Paris 7e Arrondissement, Paris, Quartier du Gros-Caillou, Paris, \\u00cele-de-France, France m\\u00e9tropolitaine, 75007, France\",\n",
      "        \"61, Quai Branly, Gros-Caillou, Paris 7e Arrondissement, Paris, Quartier du Gros-Caillou, Paris, \\u00cele-de-France, France m\\u00e9tropolitaine, 75007, France\",\n",
      "        \"Place de la R\\u00e9sistance, Gros-Caillou, Paris 7e Arrondissement, Paris, Quartier du Gros-Caillou, Paris, \\u00cele-de-France, France m\\u00e9tropolitaine, 75007, France\",\n",
      "        \"Avenue Bosquet, Gros-Caillou, Paris 7e Arrondissement, Paris, Quartier du Gros-Caillou, Paris, \\u00cele-de-France, France m\\u00e9tropolitaine, 75007, France\",\n",
      "        \"Quai d'Orsay, Gros-Caillou, Paris 7e Arrondissement, Paris, Quartier du Gros-Caillou, Paris, \\u00cele-de-France, France m\\u00e9tropolitaine, 75007, France\",\n",
      "        \"Quai d'Orsay, Gros-Caillou, Paris 7e Arrondissement, Paris, Quartier du Gros-Caillou, Paris, \\u00cele-de-France, France m\\u00e9tropolitaine, 75007, France\",\n",
      "        \"Rue Surcouf, Gros-Caillou, Paris 7e Arrondissement, Paris, Quartier du Gros-Caillou, Paris, \\u00cele-de-France, France m\\u00e9tropolitaine, 75007, France\",\n",
      "        \"Centre culturel de Chine \\u00e0 Paris, Boulevard de la Tour Maubourg, Gros-Caillou, Paris 7e Arrondissement, Paris, Quartier des Invalides, Paris, \\u00cele-de-France, France m\\u00e9tropolitaine, 75007, France\",\n",
      "        \"Quai d'Orsay, Gros-Caillou, Paris 7e Arrondissement, Paris, Quartier des Invalides, Paris, \\u00cele-de-France, France m\\u00e9tropolitaine, 75007, France\",\n",
      "        \"Quai B, Pont Alexandre III, Gros-Caillou, Paris 7e Arrondissement, Paris, Quartier des Invalides, Paris, \\u00cele-de-France, France m\\u00e9tropolitaine, 75007, France\",\n",
      "        \"Quai d'Orsay, Gros-Caillou, Paris 7e Arrondissement, Paris, Quartier des Invalides, Paris, \\u00cele-de-France, France m\\u00e9tropolitaine, 75007, France\",\n",
      "        \"Jean-Baptiste Colbert - L'organisateur, Quai d'Orsay, Gros-Caillou, Faubourg Saint-Germain, Paris, Quartier des Invalides, Paris, \\u00cele-de-France, France m\\u00e9tropolitaine, 75007, France\",\n",
      "        \"Henri-Fran\\u00e7ois d'Aguesseau - L'unificateur, Quai d'Orsay, Gros-Caillou, Faubourg Saint-Germain, Paris, Quartier des Invalides, Paris, \\u00cele-de-France, France m\\u00e9tropolitaine, 75007, France\",\n",
      "        \"Quai d'Orsay, Gros-Caillou, Paris 7e Arrondissement, Paris, Quartier des Invalides, Paris, \\u00cele-de-France, France m\\u00e9tropolitaine, 75007, France\",\n",
      "        \"Cours la Reine, Quartier des Champs-\\u00c9lys\\u00e9es, Paris 8e Arrondissement, Paris, \\u00cele-de-France, France m\\u00e9tropolitaine, 75008, France\",\n",
      "        \"Quai des Tuileries, Quartier Saint-Germain-l'Auxerrois, Paris 8e Arrondissement, Paris, \\u00cele-de-France, France m\\u00e9tropolitaine, 75008, France\",\n",
      "        \"Palais du Louvre, Avenue du G\\u00e9n\\u00e9ral Lemonnier, Quartier Saint-Germain-l'Auxerrois, Paris 1er Arrondissement, Paris, \\u00cele-de-France, France m\\u00e9tropolitaine, 75001, France\",\n",
      "        \"Pont Royal, Quartier Saint-Germain-l'Auxerrois, Paris 1er Arrondissement, Paris, \\u00cele-de-France, France m\\u00e9tropolitaine, 75001, France\",\n",
      "        \"Quai Fran\\u00e7ois Mitterrand, Quartier Saint-Germain-l'Auxerrois, Paris 1er Arrondissement, Paris, \\u00cele-de-France, France m\\u00e9tropolitaine, 75001, France\",\n",
      "        \"A1R5D0, Rue de l'Amiral de Coligny, Quartier Saint-Germain-l'Auxerrois, Paris 1er Arrondissement, Paris, \\u00cele-de-France, France m\\u00e9tropolitaine, 75001, France\",\n",
      "        \"Caf\\u00e9 du Pont Neuf, Place de l'\\u00c9cole, Quartier Saint-Germain-l'Auxerrois, Paris 1er Arrondissement, Paris, \\u00cele-de-France, France m\\u00e9tropolitaine, 75001, France\",\n",
      "        \"Pont Neuf, Quai du Louvre, Quartier Saint-Germain-l'Auxerrois, Paris 1er Arrondissement, Paris, \\u00cele-de-France, France m\\u00e9tropolitaine, 75001, France\",\n",
      "        \"Pont Neuf - Quai du Louvre, Quai de la M\\u00e9gisserie, Quartier Saint-Germain-l'Auxerrois, Paris 1er Arrondissement, Paris, \\u00cele-de-France, France m\\u00e9tropolitaine, 75001, France\",\n",
      "        \"Le Scone Cafe, Quai de la M\\u00e9gisserie, Quartier Saint-Germain-l'Auxerrois, Paris 1er Arrondissement, Paris, \\u00cele-de-France, France m\\u00e9tropolitaine, 75001, France\",\n",
      "        \"Jeux 3 \\u00e0 9 ans, Quai de la M\\u00e9gisserie, Quartier Saint-Germain-l'Auxerrois, Paris 1er Arrondissement, Paris, \\u00cele-de-France, France m\\u00e9tropolitaine, 75001, France\",\n",
      "        \"Quai de la M\\u00e9gisserie, Quartier Saint-Germain-l'Auxerrois, Paris 1er Arrondissement, Paris, \\u00cele-de-France, France m\\u00e9tropolitaine, 75001, France\",\n",
      "        \"16, Quai de Gesvres, Quartier Saint-Germain-l'Auxerrois, Paris 1er Arrondissement, Paris, \\u00cele-de-France, France m\\u00e9tropolitaine, 75001, France\",\n",
      "        \"Th\\u00e9\\u00e2tre de la Ville, Quai de Gesvres, Beaubourg, Quartier Saint-Merri, Paris 4e Arrondissement, Paris, \\u00cele-de-France, France m\\u00e9tropolitaine, 75004, France\",\n",
      "        \"Annexe du si\\u00e8ge de l'AP-HP, Rue Saint-Martin, Beaubourg, Quartier Saint-Merri, Paris 4e Arrondissement, Paris, \\u00cele-de-France, France m\\u00e9tropolitaine, 75004, France\",\n",
      "        \"Administration G\\u00e9n\\u00e9rale de l'Assistance Publique, Place de l'H\\u00f4tel de Ville, Beaubourg, Quartier Saint-Merri, Paris 4e Arrondissement, Paris, \\u00cele-de-France, France m\\u00e9tropolitaine, 75004, France\",\n",
      "        \"Pont d'Arcole, Beaubourg, Quartier Saint-Merri, Paris 4e Arrondissement, Paris, \\u00cele-de-France, France m\\u00e9tropolitaine, 75004, France\",\n",
      "        \"Quai de l'H\\u00f4tel de Ville, Beaubourg, Quartier Saint-Merri, Paris 4e Arrondissement, Paris, \\u00cele-de-France, France m\\u00e9tropolitaine, 75004, France\",\n",
      "        \"Quai de l'H\\u00f4tel de Ville, Beaubourg, Quartier Saint-Merri, Paris 4e Arrondissement, Paris, \\u00cele-de-France, France m\\u00e9tropolitaine, 75004, France\",\n",
      "        \"Quai de l'H\\u00f4tel de Ville, Beaubourg, Quartier Saint-Merri, Paris 4e Arrondissement, Paris, \\u00cele-de-France, France m\\u00e9tropolitaine, 75004, France\",\n",
      "        \"Rue de Lobau, Beaubourg, Quartier Saint-Merri, Paris 4e Arrondissement, Paris, \\u00cele-de-France, France m\\u00e9tropolitaine, 75004, France\",\n",
      "        \"Lobau - H\\u00f4tel de Ville, Rue de Lobau, Beaubourg, Quartier Saint-Merri, Paris 4e Arrondissement, Paris, \\u00cele-de-France, France m\\u00e9tropolitaine, 75004, France\",\n",
      "        \"Rue de Rivoli, Beaubourg, Quartier Saint-Merri, Paris 4e Arrondissement, Paris, \\u00cele-de-France, France m\\u00e9tropolitaine, 75004, France\",\n",
      "        \"H\\u00f4tel de Ville, Rue de Rivoli, Beaubourg, Quartier Saint-Merri, Paris 4e Arrondissement, Paris, \\u00cele-de-France, France m\\u00e9tropolitaine, 75004, France\"\n",
      "    ]\n",
      "}\n"
     ]
    }
   ],
   "source": [
    "\n",
    "# Print the updated JSON response with human-readable instructions\n",
    "print(json.dumps(updated_directions, indent=4))"
   ]
  },
  {
   "cell_type": "code",
   "execution_count": null,
   "metadata": {},
   "outputs": [],
   "source": []
  }
 ],
 "metadata": {
  "kernelspec": {
   "display_name": "Python 3",
   "language": "python",
   "name": "python3"
  },
  "language_info": {
   "codemirror_mode": {
    "name": "ipython",
    "version": 3
   },
   "file_extension": ".py",
   "mimetype": "text/x-python",
   "name": "python",
   "nbconvert_exporter": "python",
   "pygments_lexer": "ipython3",
   "version": "3.10.10"
  },
  "orig_nbformat": 4
 },
 "nbformat": 4,
 "nbformat_minor": 2
}

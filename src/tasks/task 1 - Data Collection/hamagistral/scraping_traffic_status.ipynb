{
 "cells": [
  {
   "attachments": {},
   "cell_type": "markdown",
   "metadata": {},
   "source": [
    "# Scraping Stations Traffic Status from RATP.fr"
   ]
  },
  {
   "cell_type": "code",
   "execution_count": 34,
   "metadata": {},
   "outputs": [],
   "source": [
    "from bs4 import BeautifulSoup as bs\n",
    "from dotenv import load_dotenv\n",
    "\n",
    "import pandas as pd\n",
    "import requests\n",
    "import boto3\n",
    "import os"
   ]
  },
  {
   "cell_type": "code",
   "execution_count": 28,
   "metadata": {},
   "outputs": [
    {
     "data": {
      "text/plain": [
       "True"
      ]
     },
     "execution_count": 28,
     "metadata": {},
     "output_type": "execute_result"
    }
   ],
   "source": [
    "load_dotenv()"
   ]
  },
  {
   "cell_type": "code",
   "execution_count": 3,
   "metadata": {},
   "outputs": [],
   "source": [
    "AWS_ACCESS_KEY_ID = os.getenv('AWS_ACCESS_KEY_ID')\n",
    "AWS_SECRET_ACCESS_KEY = os.getenv('AWS_SECRET_ACCESS_KEY')\n",
    "AWS_BUCKET_NAME = os.getenv('AWS_BUCKET_NAME')"
   ]
  },
  {
   "cell_type": "code",
   "execution_count": 35,
   "metadata": {},
   "outputs": [],
   "source": [
    "ratp = requests.get(\"https://www.ratp.fr/\")\n",
    "\n",
    "soup = bs(ratp.content, 'html.parser')"
   ]
  },
  {
   "cell_type": "code",
   "execution_count": 37,
   "metadata": {},
   "outputs": [
    {
     "name": "stdout",
     "output_type": "stream",
     "text": [
      "<!DOCTYPE html>\n",
      "<html lang=\"en-US\"><head><title>Just a moment...</title><meta content=\"text/html; charset=utf-8\" http-equiv=\"Content-Type\"/><meta content=\"IE=Edge\" http-equiv=\"X-UA-Compatible\"/><meta content=\"noindex,nofollow\" name=\"robots\"/><meta content=\"width=device-width,initial-scale=1\" name=\"viewport\"/><link href=\"/cdn-cgi/styles/challenges.css\" rel=\"stylesheet\"/></head><body class=\"no-js\"><div class=\"main-wrapper\" role=\"main\"><div class=\"main-content\"><noscript><div id=\"challenge-error-title\"><div class=\"h2\"><span class=\"icon-wrapper\"><div class=\"heading-icon warning-icon\"></div></span><span id=\"challenge-error-text\">Enable JavaScript and cookies to continue</span></div></div></noscript></div></div><script>(function(){window._cf_chl_opt={cvId: '2',cZone: \"www.ratp.fr\",cType: 'managed',cNounce: '12897',cRay: '8069c2a6ede769fd',cHash: 'f8f8cf20e9ce592',cUPMDTk: \"\\/?__cf_chl_tk=.8nWUd0rBj4dQcvCQk0kHdm3udSFym8.639H1NwsO0c-1694706361-0-gaNycGzNCpA\",cFPWv: 'g',cTTimeMs: '1000',cMTimeMs: '0',cTplV: 5,cTplB: 'cf',cK: \"visitor-time\",fa: \"\\/?__cf_chl_f_tk=.8nWUd0rBj4dQcvCQk0kHdm3udSFym8.639H1NwsO0c-1694706361-0-gaNycGzNCpA\",md: \"90RCqRGNOqC6Zk0gWvm60Ut7Jch0.raMeKyDQJeS4KI-1694706361-0-Ae4Yn15QJPPWyfRMSHlm9YoXEDJVLBPlLKgAqKXZzbpTshHhRc8ErV2m3Wy-TcnZPeOkWwZft0tJceyHAnZJ1TQK_4Gk4IgA5AZmYhV8FU0jkkTQMq6ZW0ziuJ_OGlsl9ztaY8H-H6pm0fNmv6lKrUkuXn_HT-KHAKxrY6jsLFny754EceoVM62kOVAYRm3PyzGJ_ju0JcEfDYQeD82jjPklu0z9W06U7rx5cgcImbjbg1-95WclXVKGyqV0_-A818K4lLzonZbBwXfkzByHrApa-bhrtBTl6iDEeX3vjNHZFjySiQ5rpuXVEnAj5ZdFIp_KV9Cgsu4-2WqPIxsFoQgNjM9LH8yZOXiPcRwEVq2-8KRI2_0xvN0sf1OqK5yWhZg6d1hdLUJDLPMN3RiAuyFlMbRImonsdXziTphgSuxq0p-8ZykfS6VWsvu5U9gbynT5ZJ0Q4JxCQCz31-SZiS8eK5dF_ZC32sG8lCcNOXq3zIDWR934uZaS6LYK6N0tZWPjQrL-MTgAO1abJdUpOwLfh0fedWX5tGEq70wuEMd5L_M2NMsPNHQi5jEwB4QXxSU2S3gCaf8RF_2UdSil532qs6FHatMli-vvTOB9rQ892-tndD0JgZWormY3gQYlwFMZbIvZv3DtsZ7oPWfwNe6jGQstjsrBpjy6wVCo0G-yUsZFQiMo89IQloVmIOYt978er_9ocZ9WF70edyLv_8qHgQzpdME8R8sqf3w4uV8zE6lsEMrtIJpAl6T9hriiykez6wi3ynjf2qCLy6jsV7o56h0AmWdsCEAtUhVB5gujBgcdw1vURbT1tKv_A4J9fyxXoRYhFAqhdPRiN8OD8q7lWRA49NpVva-jlR7TUGCLxee5lEsqawRnsYl0xq2E5bqL6MFRA__VMOYTNuPsU_cNi2MCKZI2-b_L1yIUs4cnvNOHTFqF0mcg6aYtAslyC3urnVkYFFPXa0VC8e6FGUtV7e4XCSVfX1Tmu6NfN6gSt4EzJhEEbHId28TufUJdzuPuR-SUfp_0a-WwQ4OM3wkxGAUwoEaw11qGcmGQhdd_EsJ8JDOww3Ycax7r0frJ3GI2mOGps0Ly6lbxHuCT5A8fl8QgKH-x0WvnuxGFumNbD6w93oGMQpA2Y9CdxNt8MCAv6_-vctMQpyI7R04xJuJKcl8ffcOgCDoDk7LuPiThYIZqRQktsyiGVUu3CRZWF3_CEozYeLOVEW_ltFVHOaz-vNpvN4Cjlreb8FFiqzswEVxN5czrs3dUOL13gLhTzwWMdQvQ2FqhvzveHb136YKPrVWE4vlRTqR0_e9_st5o6cPpwkViZO4YQBWSM9zPrmkEzF_h-Qv6SR2nKV5lPmVRVld_W5K9DLbFgqVSzikZ22UpS3fhJuhIXY8y2hbZezCaDIDBGaPzc9eE2slC6IEAW5s23bXJlLQ-Q9ZkA5_L3Yoe0Vsdni1CXp8WPoY1VX_U2-cREVw2Qu1vGo7zWuXzrIF9Bj7o7rWtO2TEKiyA-D_euhXeySNYINc7peWPCdpnHl-FGj_qads0AKub9HVP0iBPYldfplF3zico_WfqnTtcSZaHqJDF8IsdJH1KsJR2Y9HapDDS3O_WHlVOWZF3XXs1f_o2MQMjefKRLsWSbwhbyw4NujZzTPFEOwBrbr6nmDDhRxsFdjV0Z2RInyuVBXewr8O69vIQ7IF0NIa1LNFuIBv4JxofZ7fucbsKUwECc4hvQ4mAG2UxelPKgxnD2iW8SivMtebY_pSFsMG-KjHFSrWvHPNdrFTdxWU-TK0oX4pTBT0RezfCoLE4iGG3CUbUsqTY59Gp-NO0hfmLBlbX2SuumrVaR-xpDbns6CAGCjhmXSvqm9H-_FUOFUiZnOgH4Qd3mpvn4MyhSn93T9o4IB20s6wTGSSkeaR2E2KxA8NsYfYIPW0ygQpLSCx9WaGLgH44qSxq8GmIsTboxHe4Olk5qlB5gPLJhFKKJSwo_IxdoEZoJwf1Q6yXOKwxlxM2NsicSEWy_y_aEVymf51nNR0FcRZ_u_fzQwttCV49a1KqPoRXgNwOilyQui2IZymmB_rRTzAP4EJuORbL-4MBkrZ2XeH-xv4nOjdkCmcm6IUJAVhwz2J3kzSMp0Is_ARlOfBU0X9pjrXFjVX2AujWyeo3_4_JqYyHmNYRM8-DwhFPH6s9RZ-Mo7KNuiWTgNnzdQUqP3CX88V4IY_kJKevGg5P7RB-z_jUtop8VJ1HjTntz_Plw2oLOHiQp-ANSVtFbDrgsBnru5Um9XRuJnfi6ftgoF8HtgXc4W-IhEtZkHa7vo1UKVZp9rlr1Yy05M0if_wUQGG6ueyYSz3FCotnq3o-bRRSuerXxen6Clmwio7qw5vVevfb2IoQEa4B7jryqhe_oYwVexNk-I78JeBIX5NTP-lysY_Op-BQo5CkSyoANhNhM8jOMk48LTE1UxWfBohAHeFeGfPldGMoVEU-gh-XquDzvlIFx1ubkBkk7wGUOTE4h8OV0akLVmG3ex90BFfOdLVFAFxO834F2WvpW_EPeqLxnua6gqjkLKRUsANmY_TWCRnR96xgT8QbDyX-EWzUGmsBaku-l-QQNE2f-gGPlNhASYvFKCxYYqx5OBosbWiReBnpAcLwLN0\",cRq: {ru: 'aHR0cHM6Ly93d3cucmF0cC5mci8=',ra: 'cHl0aG9uLXJlcXVlc3RzLzIuMzEuMA==',rm: 'R0VU',d: 'FPqIU/moa5wl1iGpfD8bPzcDqwHZBEdjA75FpfcswVPOcqYmKIGmK7R7paJ8gofyIh2okDVpW88F9gyoYaBR03dAGnhN76iG0Yl4ET0vuYTqS6/ey5ZSFrtcg8SxCTZW6Rmt9rm2LJUospYc5AgPdkncJyap21u1PZu1Bk7UfCe0xxC481a3aku7M9s93x6CNL2DMIkHEIBYl5yD4lrzYnp2G14eogjQ3PrnHfzMy5p8OBq89AS7Kb4br2R3ZcMdoMP2jDcDN1PA6P9x9Ova1KNfJi8vDIoCO0lIe5qXg/6xGLMYHPRCfUH9kqrJJGM1jamhU+5XDLl3cPueol28VKnVNXDRFYNhdPkM73PrMTaVuzn9QBqxZZhfPbp5KHSs0oAYgTWzEmuhP/PPj0JpRAC3kiNvYGwr+uRNQP60E44v4nKLSpC0A04jSQXzUkhJmNZKJvcAfYEksCqg5FLkood9W9onbSmKffZ9nFfDnIUMJoFcFQ9ZXyoy5EOKlVik6d1Fto8gXwg69isUrmg4A1G0fKST5i5thUlc0f8oRDzjm0od2Czvv2X9Jfyyemh3',t: 'MTY5NDcwNjM2MS40MzIwMDA=',cT: Math.floor(Date.now() / 1000),m: 'F94pLH5dLagk34rWOAxsoPhRG5R+ePkH+o77Bq5Un0c=',i1: '2n0X1G8xFistBq/OfX6HXw==',i2: 'v/vOtTK7obd012tOZDFrGQ==',zh: '0YxlLGMq+fIk7dM5FG5c0BM/s4qJxDb1WQ85Nky2X9M=',uh: 'YE9XOpG5TeHmhA1zfs5mxC8CrRZzq2a/+r+OU7dliYQ=',hh: '8dD5cOrQFWtF5o6JsyST61L37f8zXlQz2VYMQ0O8bHQ=',}};var cpo = document.createElement('script');cpo.src = '/cdn-cgi/challenge-platform/h/g/orchestrate/chl_page/v1?ray=8069c2a6ede769fd';window._cf_chl_opt.cOgUHash = location.hash === '' && location.href.indexOf('#') !== -1 ? '#' : location.hash;window._cf_chl_opt.cOgUQuery = location.search === '' && location.href.slice(0, location.href.length - window._cf_chl_opt.cOgUHash.length).indexOf('?') !== -1 ? '?' : location.search;if (window.history && window.history.replaceState) {var ogU = location.pathname + window._cf_chl_opt.cOgUQuery + window._cf_chl_opt.cOgUHash;history.replaceState(null, null, \"\\/?__cf_chl_rt_tk=.8nWUd0rBj4dQcvCQk0kHdm3udSFym8.639H1NwsO0c-1694706361-0-gaNycGzNCpA\" + window._cf_chl_opt.cOgUHash);cpo.onload = function() {history.replaceState(null, null, ogU);}}document.getElementsByTagName('head')[0].appendChild(cpo);}());</script><script crossorigin=\"anonymous\" data-cf-beacon='{\"rayId\":\"8069c2a6ede769fd\",\"version\":\"2023.8.0\",\"b\":1,\"token\":\"63d573072fc14547a8b16ff4a248ecd2\",\"si\":100}' defer=\"\" integrity=\"sha512-bjgnUKX4azu3dLTVtie9u6TKqgx29RBwfj3QXYt5EKfWM/9hPSAI/4qcV5NACjwAo8UtTeWefx6Zq5PHcMm7Tg==\" src=\"https://static.cloudflareinsights.com/beacon.min.js/v8b253dfea2ab4077af8c6f58422dfbfd1689876627854\"></script>\n",
      "</body></html>\n"
     ]
    }
   ],
   "source": [
    "print(soup)"
   ]
  },
  {
   "cell_type": "markdown",
   "metadata": {},
   "source": [
    "#### Update: (14/09/2023)\n",
    "\n",
    "As you can see above, now the RATP website has added a cloudflare captcha to prevent web scraping, but at the time this script was done it wasn't there, as you can see in the code snippet below."
   ]
  },
  {
   "cell_type": "code",
   "execution_count": 38,
   "metadata": {},
   "outputs": [],
   "source": [
    "transportations_btns = soup.find_all('button', class_='border-line')\n",
    "\n",
    "perturbations = []\n",
    "for btn in transportations_btns:\n",
    "    perturbation_span = btn['aria-label']\n",
    "    perturbations.append(perturbation_span)"
   ]
  },
  {
   "cell_type": "code",
   "execution_count": 6,
   "metadata": {},
   "outputs": [
    {
     "data": {
      "text/plain": [
       "[]"
      ]
     },
     "execution_count": 6,
     "metadata": {},
     "output_type": "execute_result"
    }
   ],
   "source": [
    "perturbations"
   ]
  },
  {
   "attachments": {},
   "cell_type": "markdown",
   "metadata": {},
   "source": [
    "## Putting it together in a function"
   ]
  },
  {
   "cell_type": "code",
   "execution_count": 7,
   "metadata": {},
   "outputs": [],
   "source": [
    "def scrape_stations_status():\n",
    "    ratp = requests.get(\"https://www.ratp.fr/\")\n",
    "\n",
    "    soup = bs(ratp.content, 'html.parser')\n",
    "\n",
    "    transportations_btns = soup.find_all('button', class_='border-line')\n",
    "\n",
    "    perturbations = []\n",
    "    for btn in transportations_btns:\n",
    "        perturbation_span = btn['aria-label']\n",
    "        perturbations.append(perturbation_span)\n",
    "\n",
    "    df = pd.DataFrame([x.split(', ')[:2] for x in perturbations], columns=['name', 'status'])\n",
    "\n",
    "    # Extract the name without leading/trailing spaces\n",
    "    df['name'] = df['name'].str.strip()\n",
    "\n",
    "    return df"
   ]
  },
  {
   "cell_type": "code",
   "execution_count": 8,
   "metadata": {},
   "outputs": [
    {
     "data": {
      "text/html": [
       "<div>\n",
       "<style scoped>\n",
       "    .dataframe tbody tr th:only-of-type {\n",
       "        vertical-align: middle;\n",
       "    }\n",
       "\n",
       "    .dataframe tbody tr th {\n",
       "        vertical-align: top;\n",
       "    }\n",
       "\n",
       "    .dataframe thead th {\n",
       "        text-align: right;\n",
       "    }\n",
       "</style>\n",
       "<table border=\"1\" class=\"dataframe\">\n",
       "  <thead>\n",
       "    <tr style=\"text-align: right;\">\n",
       "      <th></th>\n",
       "      <th>name</th>\n",
       "      <th>status</th>\n",
       "    </tr>\n",
       "  </thead>\n",
       "  <tbody>\n",
       "    <tr>\n",
       "      <th>0</th>\n",
       "      <td>RER A</td>\n",
       "      <td>trafic normal travaux prévus</td>\n",
       "    </tr>\n",
       "    <tr>\n",
       "      <th>1</th>\n",
       "      <td>RER B</td>\n",
       "      <td>trafic perturbé travaux en cours</td>\n",
       "    </tr>\n",
       "    <tr>\n",
       "      <th>2</th>\n",
       "      <td>RER C</td>\n",
       "      <td>trafic perturbé travaux en cours</td>\n",
       "    </tr>\n",
       "    <tr>\n",
       "      <th>3</th>\n",
       "      <td>RER D</td>\n",
       "      <td>trafic perturbé travaux en cours</td>\n",
       "    </tr>\n",
       "    <tr>\n",
       "      <th>4</th>\n",
       "      <td>RER E</td>\n",
       "      <td>trafic perturbé travaux en cours</td>\n",
       "    </tr>\n",
       "  </tbody>\n",
       "</table>\n",
       "</div>"
      ],
      "text/plain": [
       "    name                            status\n",
       "0  RER A      trafic normal travaux prévus\n",
       "1  RER B  trafic perturbé travaux en cours\n",
       "2  RER C  trafic perturbé travaux en cours\n",
       "3  RER D  trafic perturbé travaux en cours\n",
       "4  RER E  trafic perturbé travaux en cours"
      ]
     },
     "execution_count": 8,
     "metadata": {},
     "output_type": "execute_result"
    }
   ],
   "source": [
    "df = scrape_stations_status()\n",
    "df.head()"
   ]
  },
  {
   "attachments": {},
   "cell_type": "markdown",
   "metadata": {},
   "source": [
    "## Data Exploration"
   ]
  },
  {
   "cell_type": "code",
   "execution_count": 9,
   "metadata": {},
   "outputs": [
    {
     "data": {
      "text/plain": [
       "array(['RER A', 'RER B', 'RER C', 'RER D', 'RER E', 'METRO 1', 'METRO 2',\n",
       "       'METRO 3', 'METRO 3B', 'METRO 4', 'METRO 5', 'METRO 6', 'METRO 7',\n",
       "       'METRO 7B', 'METRO 8', 'METRO 9', 'METRO 10', 'METRO 11',\n",
       "       'METRO 12', 'METRO 13', 'METRO 14', 'METRO ORV', 'TRAM T1',\n",
       "       'TRAM T2', 'TRAM T3A', 'TRAM T3B', 'TRAM T4', 'TRAM T5', 'TRAM T6',\n",
       "       'TRAM T7', 'TRAM T8', 'TRAM T9', 'TRAM T10', 'TRAM T11',\n",
       "       'TRAM T13', 'TRANSILIEN H', 'TRANSILIEN J', 'TRANSILIEN K',\n",
       "       'TRANSILIEN L', 'TRANSILIEN N', 'TRANSILIEN P', 'TRANSILIEN R',\n",
       "       'TRANSILIEN U'], dtype=object)"
      ]
     },
     "execution_count": 9,
     "metadata": {},
     "output_type": "execute_result"
    }
   ],
   "source": [
    "df['name'].unique()"
   ]
  },
  {
   "cell_type": "code",
   "execution_count": 10,
   "metadata": {},
   "outputs": [
    {
     "data": {
      "text/plain": [
       "array(['trafic normal travaux prévus', 'trafic perturbé travaux en cours',\n",
       "       'trafic normal'], dtype=object)"
      ]
     },
     "execution_count": 10,
     "metadata": {},
     "output_type": "execute_result"
    }
   ],
   "source": [
    "df['status'].unique()"
   ]
  },
  {
   "cell_type": "code",
   "execution_count": 11,
   "metadata": {},
   "outputs": [],
   "source": [
    "df.to_csv('data/traffic_status.csv', index=False)"
   ]
  },
  {
   "attachments": {},
   "cell_type": "markdown",
   "metadata": {},
   "source": [
    "Exporting the data to Amazon S3 Bucket"
   ]
  },
  {
   "cell_type": "code",
   "execution_count": 77,
   "metadata": {},
   "outputs": [],
   "source": [
    "def export_data_to_s3(data):\n",
    "    s3 = boto3.client('s3')\n",
    "    csv_data = data.to_csv(index=False)\n",
    "\n",
    "    bucket_name = \"omdena-paris-ratp-stations-status-useast1\"\n",
    "    file_name = \"ratp_stations_traffic_status.csv\"\n",
    "\n",
    "    s3.put_object(Body=csv_data, Bucket=bucket_name, Key=file_name)\n",
    "\n",
    "    print(\"Dataframe is saved as CSV in S3 bucket.\")"
   ]
  },
  {
   "cell_type": "code",
   "execution_count": 78,
   "metadata": {},
   "outputs": [
    {
     "name": "stdout",
     "output_type": "stream",
     "text": [
      "Dataframe is saved as CSV in S3 bucket.\n"
     ]
    }
   ],
   "source": [
    "export_data_to_s3(df)"
   ]
  },
  {
   "attachments": {},
   "cell_type": "markdown",
   "metadata": {},
   "source": [
    "Loading the dataframe from the S3 Bucket"
   ]
  },
  {
   "cell_type": "code",
   "execution_count": 19,
   "metadata": {},
   "outputs": [],
   "source": [
    "def load_data():\n",
    "\n",
    "    s3 = boto3.resource('s3', aws_access_key_id=AWS_ACCESS_KEY_ID, aws_secret_access_key=AWS_SECRET_ACCESS_KEY)\n",
    "    bucket = s3.Bucket(AWS_BUCKET_NAME)\n",
    "    obj = bucket.Object('ratp_stations_traffic_status.csv')\n",
    "    body = obj.get()['Body']\n",
    "    df = pd.read_csv(body)\n",
    "\n",
    "    return df"
   ]
  },
  {
   "cell_type": "code",
   "execution_count": 20,
   "metadata": {},
   "outputs": [
    {
     "data": {
      "text/html": [
       "<div>\n",
       "<style scoped>\n",
       "    .dataframe tbody tr th:only-of-type {\n",
       "        vertical-align: middle;\n",
       "    }\n",
       "\n",
       "    .dataframe tbody tr th {\n",
       "        vertical-align: top;\n",
       "    }\n",
       "\n",
       "    .dataframe thead th {\n",
       "        text-align: right;\n",
       "    }\n",
       "</style>\n",
       "<table border=\"1\" class=\"dataframe\">\n",
       "  <thead>\n",
       "    <tr style=\"text-align: right;\">\n",
       "      <th></th>\n",
       "      <th>name</th>\n",
       "      <th>status</th>\n",
       "    </tr>\n",
       "  </thead>\n",
       "  <tbody>\n",
       "  </tbody>\n",
       "</table>\n",
       "</div>"
      ],
      "text/plain": [
       "Empty DataFrame\n",
       "Columns: [name, status]\n",
       "Index: []"
      ]
     },
     "execution_count": 20,
     "metadata": {},
     "output_type": "execute_result"
    }
   ],
   "source": [
    "df2 = load_data()\n",
    "df2"
   ]
  }
 ],
 "metadata": {
  "kernelspec": {
   "display_name": "Python 3",
   "language": "python",
   "name": "python3"
  },
  "language_info": {
   "codemirror_mode": {
    "name": "ipython",
    "version": 3
   },
   "file_extension": ".py",
   "mimetype": "text/x-python",
   "name": "python",
   "nbconvert_exporter": "python",
   "pygments_lexer": "ipython3",
   "version": "3.10.5"
  },
  "orig_nbformat": 4
 },
 "nbformat": 4,
 "nbformat_minor": 2
}
